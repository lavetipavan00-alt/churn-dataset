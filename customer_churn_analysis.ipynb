{
  "cells": [
    {
      "cell_type": "markdown",
      "metadata": {},
      "source": [
        "# Customer Churn Prediction System\n",
        "\n",
        "## Project Overview\n",
        "This project builds an end-to-end machine learning system to predict customer churn for a telecommunications service using the IBM Telco Customer Churn dataset.\n",
        "\n",
        "### Business Problem\n",
        "Customer churn is a critical business metric that directly impacts revenue. By predicting which customers are likely to churn, businesses can:\n",
        "- Implement targeted retention strategies\n",
        "- Reduce customer acquisition costs\n",
        "- Improve customer lifetime value\n",
        "- Optimize resource allocation for retention efforts\n",
        "\n",
        "### Dataset\n",
        "The Telco Customer Churn dataset contains information about:\n",
        "- Customer demographics (gender, age, family status)\n",
        "- Account information (tenure, contract, payment method)\n",
        "- Services usage (phone, internet, streaming, etc.)\n",
        "- Charges (monthly and total charges)\n",
        "- Churn status (target variable)\n"
      ]
    },
    {
      "cell_type": "markdown",
      "metadata": {},
      "source": [
        "## Part 1: Data Analysis & Preprocessing\n"
      ]
    },
    {
      "cell_type": "code",
      "execution_count": null,
      "metadata": {},
      "outputs": [],
      "source": [
        "# Import necessary libraries\n",
        "import pandas as pd\n",
        "import numpy as np\n",
        "import matplotlib.pyplot as plt\n",
        "import seaborn as sns\n",
        "import plotly.express as px\n",
        "import plotly.graph_objects as go\n",
        "from plotly.subplots import make_subplots\n",
        "import warnings\n",
        "\n",
        "# Machine Learning libraries\n",
        "from sklearn.model_selection import train_test_split, GridSearchCV, RandomizedSearchCV\n",
        "from sklearn.preprocessing import StandardScaler, LabelEncoder, OneHotEncoder\n",
        "from sklearn.linear_model import LogisticRegression\n",
        "from sklearn.ensemble import RandomForestClassifier\n",
        "from sklearn.metrics import (\n",
        "    accuracy_score, precision_score, recall_score, f1_score,\n",
        "    roc_auc_score, roc_curve, confusion_matrix, classification_report\n",
        ")\n",
        "from sklearn.compose import ColumnTransformer\n",
        "from sklearn.pipeline import Pipeline\n",
        "from imblearn.over_sampling import SMOTE\n",
        "import xgboost as xgb\n",
        "\n",
        "# Model interpretation\n",
        "import shap\n",
        "\n",
        "# Configuration\n",
        "plt.style.use('seaborn-v0_8')\n",
        "sns.set_palette(\"husl\")\n",
        "warnings.filterwarnings('ignore')\n",
        "pd.set_option('display.max_columns', None)\n",
        "\n",
        "# Set random seed for reproducibility\n",
        "RANDOM_STATE = 42\n",
        "np.random.seed(RANDOM_STATE)\n"
      ]
    },
    {
      "cell_type": "markdown",
      "metadata": {},
      "source": [
        "### 1.1 Data Loading and Initial Exploration\n"
      ]
    },
    {
      "cell_type": "code",
      "execution_count": null,
      "metadata": {},
      "outputs": [],
      "source": [
        "# Load the dataset\n",
        "df = pd.read_csv('data/Telco-Customer-Churn.csv')\n",
        "\n",
        "print(f\"Dataset shape: {df.shape}\")\n",
        "print(f\"\\nDataset info:\")\n",
        "print(df.info())\n"
      ]
    },
    {
      "cell_type": "code",
      "execution_count": null,
      "metadata": {},
      "outputs": [],
      "source": [
        "# Display first few rows\n",
        "print(\"First 5 rows of the dataset:\")\n",
        "df.head()\n"
      ]
    },
    {
      "cell_type": "code",
      "execution_count": null,
      "metadata": {},
      "outputs": [],
      "source": [
        "# Check for missing values and data quality issues\n",
        "print(\"Missing values:\")\n",
        "missing_values = df.isnull().sum()\n",
        "missing_percentage = (missing_values / len(df)) * 100\n",
        "missing_df = pd.DataFrame({\n",
        "    'Missing Values': missing_values,\n",
        "    'Percentage': missing_percentage\n",
        "})\n",
        "print(missing_df[missing_df['Missing Values'] > 0])\n",
        "\n",
        "# Check TotalCharges column for data quality issues\n",
        "print(f\"\\nTotalCharges data type: {df['TotalCharges'].dtype}\")\n",
        "print(f\"Sample TotalCharges values: {df['TotalCharges'].head(10).tolist()}\")\n",
        "\n",
        "# Check for non-numeric values in TotalCharges\n",
        "try:\n",
        "    pd.to_numeric(df['TotalCharges'])\n",
        "    print(\"All TotalCharges values are numeric\")\n",
        "except:\n",
        "    non_numeric_mask = pd.to_numeric(df['TotalCharges'], errors='coerce').isna()\n",
        "    non_numeric_count = non_numeric_mask.sum()\n",
        "    print(f\"Non-numeric values in TotalCharges: {non_numeric_count}\")\n",
        "    if non_numeric_count > 0:\n",
        "        print(\"Non-numeric values:\", df[non_numeric_mask]['TotalCharges'].unique())\n"
      ]
    }
  ],
  "metadata": {
    "language_info": {
      "name": "python"
    }
  },
  "nbformat": 4,
  "nbformat_minor": 2
}
